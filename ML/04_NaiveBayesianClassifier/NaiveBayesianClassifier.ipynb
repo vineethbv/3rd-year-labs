{
 "cells": [
  {
   "cell_type": "markdown",
   "metadata": {},
   "source": [
    "# Naive Bayesian Classifier\n",
    "\n",
    "Naive Bayes classifiers are a collection of classification algorithms based on Bayes’ Theorem. It is a family of algorithms where all of them share a common principle, i.e. every pair of features being classified is independent of each other."
   ]
  },
  {
   "cell_type": "code",
   "execution_count": 9,
   "metadata": {},
   "outputs": [],
   "source": [
    "import pandas as pd\n",
    "from sklearn.model_selection import train_test_split\n",
    "from sklearn.naive_bayes import GaussianNB\n",
    "from sklearn import metrics"
   ]
  },
  {
   "cell_type": "code",
   "execution_count": 10,
   "metadata": {},
   "outputs": [],
   "source": [
    "df = pd.read_csv(\"data.csv\")\n",
    "feature_col_names = ['num_preg', 'glucose_conc', 'diastolic_bp',\n",
    "                     'thickness', 'insulin', 'bmi', 'diab_pred', 'age']\n",
    "predicted_class_names = ['diabetes']"
   ]
  },
  {
   "cell_type": "code",
   "execution_count": 11,
   "metadata": {},
   "outputs": [],
   "source": [
    "X = df[feature_col_names].values\n",
    "y = df[predicted_class_names].values"
   ]
  },
  {
   "cell_type": "code",
   "execution_count": 12,
   "metadata": {},
   "outputs": [
    {
     "name": "stdout",
     "output_type": "stream",
     "text": [
      "<bound method NDFrame.head of      num_preg  glucose_conc  diastolic_bp  thickness  insulin   bmi  \\\n",
      "0           6           148            72         35        0  33.6   \n",
      "1           1            85            66         29        0  26.6   \n",
      "2           8           183            64          0        0  23.3   \n",
      "3           1            89            66         23       94  28.1   \n",
      "4           0           137            40         35      168  43.1   \n",
      "..        ...           ...           ...        ...      ...   ...   \n",
      "140         3           128            78          0        0  21.1   \n",
      "141         5           106            82         30        0  39.5   \n",
      "142         2           108            52         26       63  32.5   \n",
      "143        10           108            66          0        0  32.4   \n",
      "144         4           154            62         31      284  32.8   \n",
      "\n",
      "     diab_pred  age  diabetes  \n",
      "0        0.627   50         1  \n",
      "1        0.351   31         0  \n",
      "2        0.672   32         1  \n",
      "3        0.167   21         0  \n",
      "4        2.288   33         1  \n",
      "..         ...  ...       ...  \n",
      "140      0.268   55         0  \n",
      "141      0.286   38         0  \n",
      "142      0.318   22         0  \n",
      "143      0.272   42         1  \n",
      "144      0.237   23         0  \n",
      "\n",
      "[145 rows x 9 columns]>\n"
     ]
    }
   ],
   "source": [
    "print(df.head)\n",
    "xtrain, xtest, ytrain, ytest = train_test_split(X, y, test_size = 0.40)"
   ]
  },
  {
   "cell_type": "code",
   "execution_count": 13,
   "metadata": {},
   "outputs": [
    {
     "name": "stdout",
     "output_type": "stream",
     "text": [
      "\n",
      " The total number of Training Data : (87, 1)\n",
      "\n",
      " The total number of Test Data : (58, 1)\n"
     ]
    }
   ],
   "source": [
    "print('\\n The total number of Training Data :', ytrain.shape)\n",
    "print('\\n The total number of Test Data :', ytest.shape)"
   ]
  },
  {
   "cell_type": "code",
   "execution_count": 14,
   "metadata": {},
   "outputs": [],
   "source": [
    "clf = GaussianNB().fit(xtrain, ytrain.ravel())\n",
    "predicted = clf.predict(xtest)\n",
    "predictTestData = clf.predict([[6, 148, 72, 35, 0, 33.6, 0.627, 50]])"
   ]
  },
  {
   "cell_type": "code",
   "execution_count": 15,
   "metadata": {},
   "outputs": [
    {
     "name": "stdout",
     "output_type": "stream",
     "text": [
      "\n",
      " Confusion matrix\n",
      "[[36  3]\n",
      " [ 9 10]]\n"
     ]
    }
   ],
   "source": [
    "print('\\n Confusion matrix')\n",
    "print(metrics.confusion_matrix(ytest, predicted))"
   ]
  },
  {
   "cell_type": "code",
   "execution_count": 16,
   "metadata": {},
   "outputs": [
    {
     "name": "stdout",
     "output_type": "stream",
     "text": [
      "\n",
      "Accuracy of the classifier is 0.7931034482758621\n",
      "\n",
      "The value of Precision 0.7692307692307693\n",
      "\n",
      "The value of Recall 0.5263157894736842\n",
      "Predicted Value for individual Test Data: [1]\n"
     ]
    }
   ],
   "source": [
    "print('\\nAccuracy of the classifier is',\n",
    "      metrics.accuracy_score(ytest, predicted))\n",
    "\n",
    "print('\\nThe value of Precision', metrics.precision_score(ytest, predicted))\n",
    "\n",
    "print('\\nThe value of Recall', metrics.recall_score(ytest, predicted))\n",
    "\n",
    "print(\"Predicted Value for individual Test Data:\", predictTestData)"
   ]
  }
 ],
 "metadata": {
  "interpreter": {
   "hash": "63fd5069d213b44bf678585dea6b12cceca9941eaf7f819626cde1f2670de90d"
  },
  "kernelspec": {
   "display_name": "Python 3.9.4 64-bit",
   "language": "python",
   "name": "python3"
  },
  "language_info": {
   "codemirror_mode": {
    "name": "ipython",
    "version": 3
   },
   "file_extension": ".py",
   "mimetype": "text/x-python",
   "name": "python",
   "nbconvert_exporter": "python",
   "pygments_lexer": "ipython3",
   "version": "3.10.4"
  },
  "orig_nbformat": 4
 },
 "nbformat": 4,
 "nbformat_minor": 2
}
