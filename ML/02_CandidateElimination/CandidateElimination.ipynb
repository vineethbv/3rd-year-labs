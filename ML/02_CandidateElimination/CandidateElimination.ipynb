{
 "cells": [
  {
   "cell_type": "markdown",
   "metadata": {},
   "source": [
    "# Candidate Elimination\n",
    "The candidate elimination algorithm incrementally builds the version space given a hypothesis space H and a set E of examples. The examples are added one by one; each example possibly shrinks the version space by removing the hypotheses that are inconsistent with the example."
   ]
  },
  {
   "cell_type": "code",
   "execution_count": 3,
   "metadata": {},
   "outputs": [],
   "source": [
    "import numpy as np\n",
    "import pandas as pd"
   ]
  },
  {
   "cell_type": "code",
   "execution_count": 4,
   "metadata": {},
   "outputs": [
    {
     "name": "stdout",
     "output_type": "stream",
     "text": [
      "Concepts: [['sunny' 'warm' 'normal' 'strong' 'warm' 'same']\n",
      " ['sunny' 'warm' 'high' 'strong' 'warm' 'same']\n",
      " ['rainy' 'cold' 'high' 'strong' 'warm' 'change']\n",
      " ['sunny' 'warm' 'high' 'strong' 'cool' 'change']]\n",
      "Target: ['yes' 'yes' 'no' 'yes']\n"
     ]
    }
   ],
   "source": [
    "data = pd.DataFrame(data=pd.read_csv('data.csv'))  \n",
    "concepts = np.array(data.iloc[:,0:-1]) \n",
    "print('Concepts:', concepts)  \n",
    "target = np.array(data.iloc[:,-1])   \n",
    "print('Target:', target)"
   ]
  },
  {
   "cell_type": "code",
   "execution_count": 5,
   "metadata": {},
   "outputs": [],
   "source": [
    "def learn(concepts, target):  \n",
    "    print(\"Initialization of specific_h and general_h\")      \n",
    "    \n",
    "    specific_h = concepts[0].copy()      \n",
    "    print('\\t specific_h:', specific_h)\n",
    "\n",
    "    general_h = [[\"?\" for i in range(len(specific_h))] for i in range(len(specific_h))]      \n",
    "    print('\\t general_h:', general_h)\n",
    "\n",
    "    for i, h in enumerate(concepts):  \n",
    "        if target[i] == \"yes\":  \n",
    "            for x in range(len(specific_h)):  \n",
    "                if h[x]!= specific_h[x]:                     \n",
    "                    specific_h[x] ='?'                      \n",
    "                    general_h[x][x] ='?'  \n",
    "        if target[i] == \"no\":             \n",
    "            for x in range(len(specific_h)):  \n",
    "                if h[x]!= specific_h[x]:                     \n",
    "                    general_h[x][x] = specific_h[x]                 \n",
    "                else:                     \n",
    "                    general_h[x][x] = '?'         \n",
    "        \n",
    "        print(\"\\n Steps of Candidate Elimination Algorithm\", i + 1)\n",
    "        print('\\t specific_h', specific_h)       \n",
    "        print('\\t general_h:', general_h)\n",
    "\n",
    "    indices = [i for i, val in enumerate(general_h) if val == ['?', '?', '?', '?', '?', '?']]     \n",
    "    for i in indices:    \n",
    "        general_h.remove(['?', '?', '?', '?', '?', '?'])  \n",
    "    return specific_h, general_h"
   ]
  },
  {
   "cell_type": "code",
   "execution_count": 6,
   "metadata": {},
   "outputs": [
    {
     "name": "stdout",
     "output_type": "stream",
     "text": [
      "Initialization of specific_h and general_h\n",
      "\t specific_h: ['sunny' 'warm' 'normal' 'strong' 'warm' 'same']\n",
      "\t general_h: [['?', '?', '?', '?', '?', '?'], ['?', '?', '?', '?', '?', '?'], ['?', '?', '?', '?', '?', '?'], ['?', '?', '?', '?', '?', '?'], ['?', '?', '?', '?', '?', '?'], ['?', '?', '?', '?', '?', '?']]\n",
      "\n",
      " Steps of Candidate Elimination Algorithm 1\n",
      "\t specific_h ['sunny' 'warm' 'normal' 'strong' 'warm' 'same']\n",
      "\t general_h: [['?', '?', '?', '?', '?', '?'], ['?', '?', '?', '?', '?', '?'], ['?', '?', '?', '?', '?', '?'], ['?', '?', '?', '?', '?', '?'], ['?', '?', '?', '?', '?', '?'], ['?', '?', '?', '?', '?', '?']]\n",
      "\n",
      " Steps of Candidate Elimination Algorithm 2\n",
      "\t specific_h ['sunny' 'warm' '?' 'strong' 'warm' 'same']\n",
      "\t general_h: [['?', '?', '?', '?', '?', '?'], ['?', '?', '?', '?', '?', '?'], ['?', '?', '?', '?', '?', '?'], ['?', '?', '?', '?', '?', '?'], ['?', '?', '?', '?', '?', '?'], ['?', '?', '?', '?', '?', '?']]\n",
      "\n",
      " Steps of Candidate Elimination Algorithm 3\n",
      "\t specific_h ['sunny' 'warm' '?' 'strong' 'warm' 'same']\n",
      "\t general_h: [['sunny', '?', '?', '?', '?', '?'], ['?', 'warm', '?', '?', '?', '?'], ['?', '?', '?', '?', '?', '?'], ['?', '?', '?', '?', '?', '?'], ['?', '?', '?', '?', '?', '?'], ['?', '?', '?', '?', '?', 'same']]\n",
      "\n",
      " Steps of Candidate Elimination Algorithm 4\n",
      "\t specific_h ['sunny' 'warm' '?' 'strong' '?' '?']\n",
      "\t general_h: [['sunny', '?', '?', '?', '?', '?'], ['?', 'warm', '?', '?', '?', '?'], ['?', '?', '?', '?', '?', '?'], ['?', '?', '?', '?', '?', '?'], ['?', '?', '?', '?', '?', '?'], ['?', '?', '?', '?', '?', '?']]\n",
      "\n",
      " Final specific_h:\n",
      "['sunny' 'warm' '?' 'strong' '?' '?']\n",
      "\n",
      " Final general_h:\n",
      "[['sunny', '?', '?', '?', '?', '?'], ['?', 'warm', '?', '?', '?', '?']]\n"
     ]
    }
   ],
   "source": [
    "s_final, g_final = learn(concepts, target)\n",
    "\n",
    "print(\"\\n Final specific_h:\", s_final, sep=\"\\n\") \n",
    "print(\"\\n Final general_h:\", g_final, sep=\"\\n\") "
   ]
  }
 ],
 "metadata": {
  "interpreter": {
   "hash": "b3ba2566441a7c06988d0923437866b63cedc61552a5af99d1f4fb67d367b25f"
  },
  "kernelspec": {
   "display_name": "Python 3.9.7 ('base')",
   "name": "python3"
  },
  "language_info": {
   "codemirror_mode": {
    "name": "ipython",
    "version": 3
   },
   "file_extension": ".py",
   "mimetype": "text/x-python",
   "name": "python",
   "nbconvert_exporter": "python",
   "pygments_lexer": "ipython3",
   "version": "3.9.7"
  },
  "orig_nbformat": 4
 },
 "nbformat": 4,
 "nbformat_minor": 2
}
