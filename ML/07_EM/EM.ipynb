{
 "cells": [
  {
   "cell_type": "code",
   "execution_count": 1,
   "metadata": {},
   "outputs": [],
   "source": [
    "import math\n",
    "\n",
    "days = [70, 65, 90, 55, 100, 75, 80, 55, 30, 80]\n",
    "std = 10\n",
    "variance = std**2\n",
    "k = 2 # sunny and cloudy days"
   ]
  },
  {
   "cell_type": "code",
   "execution_count": 2,
   "metadata": {},
   "outputs": [
    {
     "name": "stdout",
     "output_type": "stream",
     "text": [
      "82.00761549152422 52.981059926333586\n",
      "82.12894336998127 52.562823852049945\n"
     ]
    }
   ],
   "source": [
    "avg_sunny = 80\n",
    "avg_cloudy = 55\n",
    "\n",
    "for n in range(1000):\n",
    "    # estimator step\n",
    "    E_sunny = []\n",
    "    E_cloudy = []\n",
    "    for i in range(len(days)):\n",
    "        val_sunny = math.pow(math.e, (-0.5)/(variance) *\n",
    "                             math.pow(days[i]-avg_sunny, 2))\n",
    "        val_cloudy = math.pow(math.e, (-0.5)/(variance)\n",
    "                              * math.pow(days[i]-avg_cloudy, 2))\n",
    "        E_sunny.append(val_sunny/(val_sunny + val_cloudy))\n",
    "        E_cloudy.append(val_cloudy/(val_sunny + val_cloudy))\n",
    "\n",
    "    # maximization step\n",
    "    sunny_numerator = 0\n",
    "    sunny_denominator = sum(E_sunny)\n",
    "    cloudy_numerator = 0\n",
    "    cloudy_denominator = sum(E_cloudy)\n",
    "\n",
    "    for i in range(len(days)):\n",
    "        sunny_numerator += E_sunny[i]*days[i]\n",
    "        cloudy_numerator += E_cloudy[i]*days[i]\n",
    "    if (sunny_numerator/sunny_denominator) - avg_sunny <= 0.1 and (cloudy_numerator/cloudy_denominator) - avg_cloudy <= 0.1:\n",
    "        break\n",
    "    avg_sunny = sunny_numerator/sunny_denominator\n",
    "    avg_cloudy = cloudy_numerator/cloudy_denominator\n",
    "\n",
    "    print(avg_sunny, avg_cloudy)\n"
   ]
  }
 ],
 "metadata": {
  "kernelspec": {
   "display_name": "Python 3.8.10 64-bit",
   "language": "python",
   "name": "python3"
  },
  "language_info": {
   "codemirror_mode": {
    "name": "ipython",
    "version": 3
   },
   "file_extension": ".py",
   "mimetype": "text/x-python",
   "name": "python",
   "nbconvert_exporter": "python",
   "pygments_lexer": "ipython3",
   "version": "3.8.10"
  },
  "orig_nbformat": 4,
  "vscode": {
   "interpreter": {
    "hash": "e7370f93d1d0cde622a1f8e1c04877d8463912d04d973331ad4851f04de6915a"
   }
  }
 },
 "nbformat": 4,
 "nbformat_minor": 2
}
