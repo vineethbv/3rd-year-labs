{
 "cells": [
  {
   "cell_type": "markdown",
   "metadata": {},
   "source": [
    "# Bayesian Belief Network\n",
    "\n",
    "### A Bayesian network is a probabilistic graphical model which represents a set of variables and their conditional dependencies using a directed acyclic graph"
   ]
  },
  {
   "cell_type": "code",
   "execution_count": 1,
   "metadata": {},
   "outputs": [],
   "source": [
    "import numpy as np\n",
    "import pandas as pd\n",
    "import csv \n",
    "import pgmpy\n",
    "from pgmpy.estimators import MaximumLikelihoodEstimator\n",
    "from pgmpy.models import BayesianNetwork\n",
    "from pgmpy.inference import VariableElimination"
   ]
  },
  {
   "cell_type": "code",
   "execution_count": 2,
   "metadata": {},
   "outputs": [],
   "source": [
    "#read Cleveland Heart Disease data\n",
    "heartDisease = pd.read_csv('data1.csv')\n",
    "heartDisease = heartDisease.replace('?', np.nan)"
   ]
  },
  {
   "cell_type": "code",
   "execution_count": 3,
   "metadata": {},
   "outputs": [
    {
     "name": "stdout",
     "output_type": "stream",
     "text": [
      "Sample instances from the dataset are given below\n",
      "   age  sex  cp  trestbps  chol  fbs  restecg  thalach  exang  oldpeak  slope  \\\n",
      "0   63    1   1       145   233    1        2      150      0      2.3      3   \n",
      "1   67    1   4       160   286    0        2      108      1      1.5      2   \n",
      "2   67    1   4       120   229    0        2      129      1      2.6      2   \n",
      "3   37    1   3       130   250    0        0      187      0      3.5      3   \n",
      "4   41    0   2       130   204    0        2      172      0      1.4      1   \n",
      "\n",
      "   ca  thal  heartDisease  \n",
      "0   0     6             0  \n",
      "1   3     3             2  \n",
      "2   2     7             1  \n",
      "3   0     3             0  \n",
      "4   0     3             0  \n"
     ]
    }
   ],
   "source": [
    "#display the data\n",
    "print('Sample instances from the dataset are given below')\n",
    "print(heartDisease.head())"
   ]
  },
  {
   "cell_type": "code",
   "execution_count": 4,
   "metadata": {},
   "outputs": [
    {
     "name": "stdout",
     "output_type": "stream",
     "text": [
      "\n",
      "Attributes and datatypes\n",
      "age               int64\n",
      "sex               int64\n",
      "cp                int64\n",
      "trestbps          int64\n",
      "chol              int64\n",
      "fbs               int64\n",
      "restecg           int64\n",
      "thalach           int64\n",
      "exang             int64\n",
      "oldpeak         float64\n",
      "slope             int64\n",
      "ca                int64\n",
      "thal              int64\n",
      "heartDisease      int64\n",
      "dtype: object\n"
     ]
    }
   ],
   "source": [
    "#display the Attributes names and datatypes\n",
    "print('\\nAttributes and datatypes')\n",
    "print(heartDisease.dtypes)"
   ]
  },
  {
   "cell_type": "code",
   "execution_count": 5,
   "metadata": {},
   "outputs": [],
   "source": [
    "#Create Model-Bayesian Network\n",
    "model =  BayesianNetwork([('age', 'heartDisease'), ('sex', 'heartDisease'), ('exang', 'heartDisease'), ('cp', 'heartDisease'), ('restecg', 'heartDisease'), ('heartDisease', 'chol')])"
   ]
  },
  {
   "cell_type": "code",
   "execution_count": 6,
   "metadata": {},
   "outputs": [
    {
     "name": "stdout",
     "output_type": "stream",
     "text": [
      "\n",
      "Learning CPD using Maximum likelihood estimators\n"
     ]
    }
   ],
   "source": [
    "#Learning CPDs using Maximum Likelihood Estimators\n",
    "print('\\nLearning CPD using Maximum likelihood estimators')\n",
    "model.fit(heartDisease,estimator=MaximumLikelihoodEstimator)"
   ]
  },
  {
   "cell_type": "code",
   "execution_count": 7,
   "metadata": {},
   "outputs": [
    {
     "name": "stdout",
     "output_type": "stream",
     "text": [
      "\n",
      "Inferencing with Bayesian Network:\n"
     ]
    }
   ],
   "source": [
    "#Inferencing with Bayesian Network\n",
    "print('\\nInferencing with Bayesian Network:')\n",
    "heartDiseasetest_infer = VariableElimination(model)"
   ]
  },
  {
   "cell_type": "code",
   "execution_count": 8,
   "metadata": {},
   "outputs": [
    {
     "name": "stdout",
     "output_type": "stream",
     "text": [
      "\n",
      "1. Probability of heartDisease given evidence= restecg :1\n"
     ]
    },
    {
     "name": "stderr",
     "output_type": "stream",
     "text": [
      "Finding Elimination Order: : 100%|██████████| 4/4 [00:00<?, ?it/s]\n",
      "Eliminating: age: 100%|██████████| 4/4 [00:00<00:00, 128.46it/s]"
     ]
    },
    {
     "name": "stdout",
     "output_type": "stream",
     "text": [
      "+-----------------+---------------------+\n",
      "| heartDisease    |   phi(heartDisease) |\n",
      "+=================+=====================+\n",
      "| heartDisease(0) |              0.1972 |\n",
      "+-----------------+---------------------+\n",
      "| heartDisease(1) |              0.1970 |\n",
      "+-----------------+---------------------+\n",
      "| heartDisease(2) |              0.1976 |\n",
      "+-----------------+---------------------+\n",
      "| heartDisease(3) |              0.1976 |\n",
      "+-----------------+---------------------+\n",
      "| heartDisease(4) |              0.2106 |\n",
      "+-----------------+---------------------+\n"
     ]
    },
    {
     "name": "stderr",
     "output_type": "stream",
     "text": [
      "\n"
     ]
    }
   ],
   "source": [
    "#computing the Probability of heartDisease given restecg\n",
    "print('\\n1. Probability of heartDisease given evidence= restecg :1')\n",
    "q1=heartDiseasetest_infer.query(variables=['heartDisease'],evidence={'restecg':1})\n",
    "print(q1)"
   ]
  },
  {
   "cell_type": "code",
   "execution_count": 13,
   "metadata": {},
   "outputs": [
    {
     "name": "stdout",
     "output_type": "stream",
     "text": [
      "\n",
      "2. Probability of heartDisease given evidence= cp:2 amd restecg:2\n"
     ]
    },
    {
     "name": "stderr",
     "output_type": "stream",
     "text": [
      "Finding Elimination Order: : 100%|██████████| 3/3 [00:00<00:00, 3008.11it/s]\n",
      "Eliminating: age: 100%|██████████| 3/3 [00:00<00:00, 231.42it/s]"
     ]
    },
    {
     "name": "stdout",
     "output_type": "stream",
     "text": [
      "+-----------------+---------------------+\n",
      "| heartDisease    |   phi(heartDisease) |\n",
      "+=================+=====================+\n",
      "| heartDisease(0) |              0.2607 |\n",
      "+-----------------+---------------------+\n",
      "| heartDisease(1) |              0.2474 |\n",
      "+-----------------+---------------------+\n",
      "| heartDisease(2) |              0.1567 |\n",
      "+-----------------+---------------------+\n",
      "| heartDisease(3) |              0.1785 |\n",
      "+-----------------+---------------------+\n",
      "| heartDisease(4) |              0.1567 |\n",
      "+-----------------+---------------------+\n"
     ]
    },
    {
     "name": "stderr",
     "output_type": "stream",
     "text": [
      "\n"
     ]
    }
   ],
   "source": [
    "#computing the Probability of heartDisease given cp\n",
    "print('\\n2. Probability of heartDisease given evidence= cp:2 amd restecg:2')\n",
    "q2=heartDiseasetest_infer.query(variables=['heartDisease'],evidence={'cp':2, 'restecg':2})\n",
    "print(q2)"
   ]
  }
 ],
 "metadata": {
  "kernelspec": {
   "display_name": "Python 3.9.7 ('base')",
   "language": "python",
   "name": "python3"
  },
  "language_info": {
   "codemirror_mode": {
    "name": "ipython",
    "version": 3
   },
   "file_extension": ".py",
   "mimetype": "text/x-python",
   "name": "python",
   "nbconvert_exporter": "python",
   "pygments_lexer": "ipython3",
   "version": "3.9.7"
  },
  "orig_nbformat": 4,
  "vscode": {
   "interpreter": {
    "hash": "ad2bdc8ecc057115af97d19610ffacc2b4e99fae6737bb82f5d7fb13d2f2c186"
   }
  }
 },
 "nbformat": 4,
 "nbformat_minor": 2
}
