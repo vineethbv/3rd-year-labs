{
 "cells": [
  {
   "cell_type": "markdown",
   "metadata": {},
   "source": [
    "# Find S\n",
    "The find-S algorithm finds the most specific hypothesis that fits all the positive examples."
   ]
  },
  {
   "cell_type": "code",
   "execution_count": 2,
   "metadata": {},
   "outputs": [],
   "source": [
    "import csv"
   ]
  },
  {
   "cell_type": "code",
   "execution_count": 3,
   "metadata": {},
   "outputs": [],
   "source": [
    "def updateHypothesis(x, h):\n",
    "    if h == []:\n",
    "        return x\n",
    "\n",
    "    for i in range(0, len(h)):\n",
    "        if x[i].upper() !=  h[i].upper():\n",
    "            h[i] = '?'\n",
    "\n",
    "    return h"
   ]
  },
  {
   "cell_type": "code",
   "execution_count": 4,
   "metadata": {},
   "outputs": [
    {
     "name": "stdout",
     "output_type": "stream",
     "text": [
      "Data: \n",
      "['sky', 'air temp', 'humidity', 'wind', 'water', 'forecast', 'enjoy sport']\n",
      "['sunny', 'warm', 'normal', 'strong', 'warm', 'same', 'yes']\n",
      "['sunny', 'warm', 'high', 'strong', 'warm', 'same', 'yes']\n",
      "['rainy', 'cold', 'high', 'strong', 'warm', 'change', 'no']\n",
      "['sunny', 'warm', 'high', 'strong', 'cool', 'change', 'yes']\n",
      "\n",
      "Hypothesis:  ['sunny', 'warm', '?', 'strong', '?', '?']\n"
     ]
    }
   ],
   "source": [
    "data = []\n",
    "h = []\n",
    "\n",
    "with open('data.csv', 'r') as file:\n",
    "    reader = csv.reader(file)\n",
    "    print(\"Data: \")\n",
    "    for row in reader:\n",
    "        data.append(row)\n",
    "        print(row)\n",
    "\n",
    "if data:\n",
    "    for x in data:\n",
    "        if x[-1].upper() == \"YES\":\n",
    "            x.pop() # removing last field\n",
    "            h = updateHypothesis(x, h)\n",
    "\n",
    "print(\"\\nHypothesis: \", h)"
   ]
  }
 ],
 "metadata": {
  "interpreter": {
   "hash": "b3ba2566441a7c06988d0923437866b63cedc61552a5af99d1f4fb67d367b25f"
  },
  "kernelspec": {
   "display_name": "Python 3.9.7 ('base')",
   "name": "python3"
  },
  "language_info": {
   "codemirror_mode": {
    "name": "ipython",
    "version": 3
   },
   "file_extension": ".py",
   "mimetype": "text/x-python",
   "name": "python",
   "nbconvert_exporter": "python",
   "pygments_lexer": "ipython3",
   "version": "3.9.7"
  },
  "orig_nbformat": 4
 },
 "nbformat": 4,
 "nbformat_minor": 2
}
