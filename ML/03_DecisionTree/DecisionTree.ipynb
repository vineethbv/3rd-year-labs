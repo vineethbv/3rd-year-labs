{
 "cells": [
  {
   "cell_type": "markdown",
   "metadata": {},
   "source": [
    "# Decision Tree\n",
    "Decision tree uses the tree representation to solve the problem in which each leaf node corresponds to a class label and attributes are represented on the internal node of the tree."
   ]
  },
  {
   "cell_type": "code",
   "execution_count": 100,
   "metadata": {},
   "outputs": [],
   "source": [
    "import math\n",
    "import csv"
   ]
  },
  {
   "cell_type": "code",
   "execution_count": 101,
   "metadata": {},
   "outputs": [],
   "source": [
    "def load_csv(filename):\n",
    "    lines = csv.reader(open(filename, \"r\"))\n",
    "    dataset = list(lines)\n",
    "    headers = dataset.pop(0)\n",
    "    return dataset, headers"
   ]
  },
  {
   "cell_type": "code",
   "execution_count": 102,
   "metadata": {},
   "outputs": [],
   "source": [
    "class Node:\n",
    "    def __init__(self, attribute):\n",
    "        self.attribute = attribute\n",
    "        self.children = []\n",
    "        self.answer = \"\""
   ]
  },
  {
   "cell_type": "code",
   "execution_count": 103,
   "metadata": {},
   "outputs": [],
   "source": [
    "def subtables(data, col, delete):\n",
    "    dic = {}\n",
    "    coldata = [row[col] for row in data]\n",
    "    attr = list(set(coldata))\n",
    "\n",
    "    counts = [0] * len(attr)\n",
    "    r = len(data)\n",
    "    c = len(data[0])\n",
    "    for x in range(len(attr)):\n",
    "        for y in range(r):\n",
    "            if data[y][col] == attr[x]:\n",
    "                counts[x] += 1\n",
    "\n",
    "    for x in range(len(attr)):\n",
    "        dic[attr[x]] = [[0 for i in range(c)] for j in range(counts[x])]\n",
    "        pos = 0\n",
    "        for y in range(r):\n",
    "            if data[y][col] == attr[x]:\n",
    "                if delete:\n",
    "                    del data[y][col]\n",
    "                dic[attr[x]][pos] = data[y]\n",
    "                pos += 1\n",
    "    return attr, dic"
   ]
  },
  {
   "cell_type": "code",
   "execution_count": 104,
   "metadata": {},
   "outputs": [],
   "source": [
    "def entropy(S):\n",
    "    attr = list(set(S))\n",
    "    if len(attr) == 1:\n",
    "        return 0\n",
    "\n",
    "    counts = [0, 0]\n",
    "    for i in range(2):\n",
    "        counts[i] = sum([1 for x in S if attr[i] == x]) / (len(S) * 1.0)\n",
    "\n",
    "    sums = 0\n",
    "    for cnt in counts:\n",
    "        sums += -1 * cnt*math.log(cnt, 2)\n",
    "    return sums"
   ]
  },
  {
   "cell_type": "code",
   "execution_count": 105,
   "metadata": {},
   "outputs": [],
   "source": [
    "def compute_gain(data, col):\n",
    "    attr, dic = subtables(data, col, delete=False)\n",
    "\n",
    "    total_size = len(data)\n",
    "    entropies = [0] * len(attr)\n",
    "    ratio = [0] * len(attr)\n",
    "\n",
    "    total_entropy = entropy([row[-1] for row in data])\n",
    "    for x in range(len(attr)):\n",
    "        ratio[x] = len(dic[attr[x]])/(total_size*1.0)\n",
    "        entropies[x] = entropy([row[-1] for row in dic[attr[x]]])\n",
    "        total_entropy -= ratio[x]*entropies[x]\n",
    "    return total_entropy"
   ]
  },
  {
   "cell_type": "code",
   "execution_count": 106,
   "metadata": {},
   "outputs": [],
   "source": [
    "def build_tree(data, features):\n",
    "    lastcol = [row[-1] for row in data]\n",
    "    if (len(set(lastcol))) == 1:\n",
    "        node = Node(\"\")\n",
    "        node.answer = lastcol[0]\n",
    "        return node\n",
    "\n",
    "    n = len(data[0]) - 1\n",
    "    gains = [0] * n\n",
    "    for col in range(n):\n",
    "        gains[col] = compute_gain(data, col)\n",
    "    split = gains.index(max(gains))\n",
    "    node = Node(features[split])\n",
    "    fea = features[:split] + features[split + 1:]\n",
    "\n",
    "    attr, dic = subtables(data, split, delete=True)\n",
    "\n",
    "    for x in range(len(attr)):\n",
    "        child = build_tree(dic[attr[x]], fea)\n",
    "        node.children.append((attr[x], child))\n",
    "    return node"
   ]
  },
  {
   "cell_type": "code",
   "execution_count": 107,
   "metadata": {},
   "outputs": [],
   "source": [
    "def print_tree(node, level):\n",
    "    if node.answer != \"\":\n",
    "        print(\"\\t\" * level, \">\", node.answer)\n",
    "        return\n",
    "\n",
    "    print(\"\\t\" * level, node.attribute)\n",
    "    for value, n in node.children:\n",
    "        print(\"\\t\"*(level + 1), value)\n",
    "        print_tree(n, level + 2)"
   ]
  },
  {
   "cell_type": "code",
   "execution_count": 108,
   "metadata": {},
   "outputs": [],
   "source": [
    "def classify(node, x_test, features):\n",
    "    if node.answer != \"\":\n",
    "        print(node.answer)\n",
    "        return\n",
    "    pos = features.index(node.attribute)\n",
    "    for value, n in node.children:\n",
    "        if x_test[pos] == value:\n",
    "            classify(n, x_test, features)"
   ]
  },
  {
   "cell_type": "code",
   "execution_count": 109,
   "metadata": {},
   "outputs": [
    {
     "name": "stdout",
     "output_type": "stream",
     "text": [
      "The decision tree for the dataset using ID3 algorithm is:\n",
      " Outlook\n",
      "\t overcast\n",
      "\t\t > yes\n",
      "\t rain\n",
      "\t\t Wind\n",
      "\t\t\t weak\n",
      "\t\t\t\t > yes\n",
      "\t\t\t strong\n",
      "\t\t\t\t > no\n",
      "\t sunny\n",
      "\t\t Humidity\n",
      "\t\t\t high\n",
      "\t\t\t\t > no\n",
      "\t\t\t normal\n",
      "\t\t\t\t > yes\n"
     ]
    }
   ],
   "source": [
    "dataset, features = load_csv(\"data.csv\")\n",
    "node1 = build_tree(dataset, features)\n",
    "\n",
    "print(\"The decision tree for the dataset using ID3 algorithm is:\")\n",
    "print_tree(node1, 0)\n",
    "testdata, features = load_csv(\"test.csv\")"
   ]
  },
  {
   "cell_type": "code",
   "execution_count": 110,
   "metadata": {},
   "outputs": [],
   "source": [
    "for xtest in testdata:\n",
    "    print(\"The test instance:\", xtest)\n",
    "    print(\"The label for test instance:\", end = \" \")\n",
    "    classify(node1, xtest, features)"
   ]
  }
 ],
 "metadata": {
  "interpreter": {
   "hash": "63fd5069d213b44bf678585dea6b12cceca9941eaf7f819626cde1f2670de90d"
  },
  "kernelspec": {
   "display_name": "Python 3.9.4 64-bit",
   "language": "python",
   "name": "python3"
  },
  "language_info": {
   "codemirror_mode": {
    "name": "ipython",
    "version": 3
   },
   "file_extension": ".py",
   "mimetype": "text/x-python",
   "name": "python",
   "nbconvert_exporter": "python",
   "pygments_lexer": "ipython3",
   "version": "3.10.0"
  },
  "orig_nbformat": 4
 },
 "nbformat": 4,
 "nbformat_minor": 2
}
